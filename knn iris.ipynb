{
 "cells": [
  {
   "cell_type": "code",
   "execution_count": 14,
   "metadata": {},
   "outputs": [],
   "source": [
    "from sklearn import datasets\n",
    "import numpy as np\n",
    "from sklearn.model_selection import train_test_split\n",
    "\n",
    "iris = datasets.load_iris() #Load the iris data set\n",
    "x = iris.data[:,0:4] #0-4 because we don't need the last column, which just gives us the name of the species\n",
    "y = iris.target  \n",
    "\n"
   ]
  },
  {
   "cell_type": "code",
   "execution_count": 15,
   "metadata": {},
   "outputs": [
    {
     "data": {
      "text/plain": [
       "((100,), (50,))"
      ]
     },
     "execution_count": 15,
     "metadata": {},
     "output_type": "execute_result"
    }
   ],
   "source": [
    "X_train,X_test, y_train, y_test = train_test_split(x, y,test_size=1/3,stratify=y)\n",
    "y_train.shape,y_test.shape"
   ]
  },
  {
   "cell_type": "code",
   "execution_count": 17,
   "metadata": {},
   "outputs": [
    {
     "name": "stdout",
     "output_type": "stream",
     "text": [
      "[0.44, 0.72, 0.78, 0.8, 0.82, 0.82, 0.82, 0.86, 0.86, 0.9, 0.9, 0.9, 0.94]\n"
     ]
    }
   ],
   "source": [
    "kn=[1,3,5,7,9,11,13,15,17,19,21,23,25]\n",
    "ac=[]\n",
    "for k in kn:\n",
    "    ypred=[]\n",
    "    for i in X_test:\n",
    "        x= np.sqrt( np.square(X_train-i) )\n",
    "        minkneighbour= y_train[np.argsort(x,axis=0)[:k]]\n",
    "        number,count = np.unique(minkneighbour,return_counts=True)\n",
    "        ypred=np.append(ypred,np.argmax(count))\n",
    "    ac.append((sum(ypred==y_test)/len(y_test)))\n",
    "print(ac)\n",
    "        \n",
    "        \n",
    "    \n"
   ]
  },
  {
   "cell_type": "code",
   "execution_count": null,
   "metadata": {},
   "outputs": [],
   "source": []
  }
 ],
 "metadata": {
  "kernelspec": {
   "display_name": "Python 3",
   "language": "python",
   "name": "python3"
  },
  "language_info": {
   "codemirror_mode": {
    "name": "ipython",
    "version": 3
   },
   "file_extension": ".py",
   "mimetype": "text/x-python",
   "name": "python",
   "nbconvert_exporter": "python",
   "pygments_lexer": "ipython3",
   "version": "3.7.1"
  }
 },
 "nbformat": 4,
 "nbformat_minor": 2
}
