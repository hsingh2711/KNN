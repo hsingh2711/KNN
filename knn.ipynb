{
 "cells": [
  {
   "cell_type": "code",
   "execution_count": 1,
   "metadata": {},
   "outputs": [
    {
     "data": {
      "text/plain": [
       "<matplotlib.collections.PathCollection at 0x19f7e41f320>"
      ]
     },
     "execution_count": 1,
     "metadata": {},
     "output_type": "execute_result"
    },
    {
     "data": {
      "image/png": "[encoded data removed]",
      "text/plain": [
       "<Figure size 432x288 with 1 Axes>"
      ]
     },
     "metadata": {
      "needs_background": "light"
     },
     "output_type": "display_data"
    }
   ],
   "source": [
    "import numpy as np\n",
    "from sklearn.model_selection import train_test_split\n",
    "import matplotlib.pyplot as plt\n",
    "%matplotlib inline\n",
    "np.random.seed(2019)\n",
    "data = np.random.randn(200,2)\n",
    "data[:100,0]=data[:100,0]*4+10\n",
    "data[:100,1]=data[100:,1]*4+5\n",
    "\n",
    "data[100:,0]=data[100:,0]*4+18\n",
    "data[100:,1]=data[100:,1]*4+13\n",
    "y=np.append(np.ones(100),np.zeros(100))\n",
    "\n",
    "plt.scatter(data[:100,0], data[:100,1],color=\"red\",marker='o',label='class1')\n",
    "plt.scatter(data[100:,0], data[100:,1],color='blue',marker='o',label='class2')\n"
   ]
  },
  {
   "cell_type": "code",
   "execution_count": 2,
   "metadata": {},
   "outputs": [],
   "source": [
    "X_train, X_test, y_train , y_test = train_test_split( data , y , test_size=0.5,stratify=y)\n"
   ]
  },
  {
   "cell_type": "code",
   "execution_count": 3,
   "metadata": {},
   "outputs": [],
   "source": [
    "#ypred=[]\n",
    "#for i in X_test:\n",
    "#    ypred.append(y_train[np.argmin ( np.sqrt( np.square(X_train[:,0]-i[0])+ np.square(X_train[:,1]-i[1]) )) ])  \n"
   ]
  },
  {
   "cell_type": "code",
   "execution_count": 4,
   "metadata": {},
   "outputs": [],
   "source": [
    "#count=0\n",
    "#for i in range(100):\n",
    "#    if ypred[i]==y_test[i]:\n",
    "#        count=count+1\n",
    "        \n",
    "#acc=count/100\n",
    "#acc"
   ]
  },
  {
   "cell_type": "code",
   "execution_count": 5,
   "metadata": {},
   "outputs": [
    {
     "name": "stdout",
     "output_type": "stream",
     "text": [
      "[0.76, 0.87, 0.89, 0.89, 0.89, 0.9, 0.88, 0.88, 0.9, 0.9, 0.9, 0.9, 0.9]\n"
     ]
    }
   ],
   "source": [
    "#Multiple nearest neighbours \n",
    "kn=[1,3,5,7,9,11,13,15,17,19,21,23,25]\n",
    "ac=[]\n",
    "for k in kn:\n",
    "    ypred=[]\n",
    "    for i in X_test:\n",
    "        x= np.sqrt( np.square(X_train[:,0]-i[0])+ np.square(X_train[:,1]-i[1]) )\n",
    "        minkneighbour= y_train[x.argsort()[:k]]\n",
    "        count1 = sum(minkneighbour)\n",
    "        count0 = k- count1\n",
    "        if count1>count0:\n",
    "            ypred.append(1)\n",
    "        else:\n",
    "            ypred.append(0)\n",
    "    ac.append(np.sum((ypred-y_test)==0)/100)\n",
    "    \n",
    "print(ac)\n",
    "    \n",
    "\n",
    "    \n",
    "    \n",
    "\n",
    "   "
   ]
  },
  {
   "cell_type": "code",
   "execution_count": 6,
   "metadata": {},
   "outputs": [
    {
     "data": {
      "text/plain": [
       "[<matplotlib.lines.Line2D at 0x19f7e4b9198>]"
      ]
     },
     "execution_count": 6,
     "metadata": {},
     "output_type": "execute_result"
    },
    {
     "data": {
      "image/png": "[encoded data removed]",
      "text/plain": [
       "<Figure size 432x288 with 1 Axes>"
      ]
     },
     "metadata": {
      "needs_background": "light"
     },
     "output_type": "display_data"
    }
   ],
   "source": [
    "plt.plot(kn,ac)"
   ]
  },
  {
   "cell_type": "code",
   "execution_count": null,
   "metadata": {},
   "outputs": [],
   "source": []
  }
 ],
 "metadata": {
  "kernelspec": {
   "display_name": "Python 3",
   "language": "python",
   "name": "python3"
  },
  "language_info": {
   "codemirror_mode": {
    "name": "ipython",
    "version": 3
   },
   "file_extension": ".py",
   "mimetype": "text/x-python",
   "name": "python",
   "nbconvert_exporter": "python",
   "pygments_lexer": "ipython3",
   "version": "3.7.1"
  }
 },
 "nbformat": 4,
 "nbformat_minor": 2
}
